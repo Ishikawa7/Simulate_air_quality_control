{
 "cells": [
  {
   "cell_type": "code",
   "execution_count": null,
   "metadata": {},
   "outputs": [],
   "source": [
    "import pandas as pd\n",
    "import numpy as np\n",
    "import tensorflow as tf\n",
    "import pickle\n",
    "from sklearn.preprocessing import StandardScaler"
   ]
  },
  {
   "cell_type": "code",
   "execution_count": null,
   "metadata": {},
   "outputs": [],
   "source": [
    "'''\n",
    "CO(mg/m^3)_lag_1: MAE: 0.3926831388089995\n",
    "CO(mg/m^3)_lag_2: MAE: 0.4968563914970162\n",
    "CO(mg/m^3)_lag_3: MAE: 0.5501705725838607\n",
    "CO(mg/m^3)_lag_4: MAE: 0.5715380364944085\n",
    "CO(mg/m^3)_lag_5: MAE: 0.628628765641844\n",
    "CO(mg/m^3)_lag_6: MAE: 0.6424215457554477\n",
    "Mean MAE: 0.5470497417969294\n",
    "'''"
   ]
  }
 ],
 "metadata": {
  "language_info": {
   "name": "python"
  }
 },
 "nbformat": 4,
 "nbformat_minor": 2
}
