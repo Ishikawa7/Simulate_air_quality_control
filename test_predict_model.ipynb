{
 "cells": [
  {
   "cell_type": "code",
   "execution_count": 1182,
   "metadata": {},
   "outputs": [],
   "source": [
    "import pandas as pd\n",
    "import numpy as np\n",
    "import tensorflow as tf\n",
    "import pickle\n",
    "from sklearn.preprocessing import StandardScaler\n",
    "import plotly.express as px"
   ]
  },
  {
   "cell_type": "code",
   "execution_count": 1183,
   "metadata": {},
   "outputs": [],
   "source": [
    "model = tf.keras.models.load_model('predict_model.keras')"
   ]
  },
  {
   "cell_type": "code",
   "execution_count": 1184,
   "metadata": {},
   "outputs": [],
   "source": [
    "scaler = pickle.load(open('scaler.pkl', 'rb'))"
   ]
  },
  {
   "cell_type": "code",
   "execution_count": 1185,
   "metadata": {},
   "outputs": [],
   "source": [
    "output_columns = [\n",
    "    'CO(mg/m^3)_lag_1',\n",
    "    'CO(mg/m^3)_lag_2',\n",
    "    'CO(mg/m^3)_lag_3',\n",
    "    'CO(mg/m^3)_lag_4',\n",
    "    'CO(mg/m^3)_lag_5',\n",
    "    'CO(mg/m^3)_lag_6'\n",
    "]"
   ]
  },
  {
   "cell_type": "code",
   "execution_count": 1186,
   "metadata": {},
   "outputs": [
    {
     "data": {
      "text/plain": [
       "'\\nCO(mg/m^3)_lag_1: MAE: 0.3927497417038312\\nCO(mg/m^3)_lag_2: MAE: 0.5083702155492261\\nCO(mg/m^3)_lag_3: MAE: 0.5668962316314912\\nCO(mg/m^3)_lag_4: MAE: 0.59148664040476\\nCO(mg/m^3)_lag_5: MAE: 0.6481684823841576\\nCO(mg/m^3)_lag_6: MAE: 0.6520564941970017\\nMean MAE: 0.5599546343117446\\n'"
      ]
     },
     "execution_count": 1186,
     "metadata": {},
     "output_type": "execute_result"
    }
   ],
   "source": [
    "'''\n",
    "CO(mg/m^3)_lag_1: MAE: 0.3927497417038312\n",
    "CO(mg/m^3)_lag_2: MAE: 0.5083702155492261\n",
    "CO(mg/m^3)_lag_3: MAE: 0.5668962316314912\n",
    "CO(mg/m^3)_lag_4: MAE: 0.59148664040476\n",
    "CO(mg/m^3)_lag_5: MAE: 0.6481684823841576\n",
    "CO(mg/m^3)_lag_6: MAE: 0.6520564941970017\n",
    "Mean MAE: 0.5599546343117446\n",
    "'''"
   ]
  },
  {
   "cell_type": "code",
   "execution_count": 1187,
   "metadata": {},
   "outputs": [],
   "source": [
    "adjustements = [\n",
    "    0.3926831388089995,\n",
    "    0.4968563914970162,\n",
    "    0.5501705725838607,\n",
    "    0.5715380364944085,\n",
    "    0.628628765641844,\n",
    "    0.6424215457554477\n",
    "    ]"
   ]
  },
  {
   "cell_type": "code",
   "execution_count": 1188,
   "metadata": {},
   "outputs": [
    {
     "data": {
      "text/plain": [
       "'\\n\\tCO(mg/m^3)\\tDelta CO(mg/m^3)\\tPeople\\tSuction Pump\\tTemperature(°C)\\tRelative Humidity(%)\\tAbsolute Humidity(g/m^3)\\ncount\\t9333.000000\\t9333.000000\\t9333.000000\\t9333.000000\\t9333.000000\\t9333.000000\\t9333.000000\\nmean\\t2.131823\\t-0.000075\\t1.874638\\t0.188332\\t18.242706\\t49.192027\\t1.020341\\nstd\\t1.414137\\t0.747945\\t2.891474\\t0.250947\\t7.886612\\t12.928774\\t0.389219\\nmin\\t0.100000\\t-5.100000\\t0.000000\\t0.000000\\t1.041667\\t18.691667\\t0.231113\\n25%\\t1.100000\\t-0.300000\\t0.000000\\t0.000000\\t11.806250\\t38.983333\\t0.735113\\n50%\\t1.800000\\t0.000000\\t0.000000\\t0.099655\\t17.825000\\t47.987500\\t0.998054\\n75%\\t2.950000\\t0.200000\\t3.000000\\t0.348074\\t24.829167\\t59.070833\\t1.296350\\nmax\\t11.900000\\t4.600000\\t9.000000\\t1.000000\\t33.191667\\t81.141667\\t2.020600\\n'"
      ]
     },
     "execution_count": 1188,
     "metadata": {},
     "output_type": "execute_result"
    }
   ],
   "source": [
    "'''\n",
    "\tCO(mg/m^3)\tDelta CO(mg/m^3)\tPeople\tSuction Pump\tTemperature(°C)\tRelative Humidity(%)\tAbsolute Humidity(g/m^3)\n",
    "count\t9333.000000\t9333.000000\t9333.000000\t9333.000000\t9333.000000\t9333.000000\t9333.000000\n",
    "mean\t2.131823\t-0.000075\t1.874638\t0.188332\t18.242706\t49.192027\t1.020341\n",
    "std\t1.414137\t0.747945\t2.891474\t0.250947\t7.886612\t12.928774\t0.389219\n",
    "min\t0.100000\t-5.100000\t0.000000\t0.000000\t1.041667\t18.691667\t0.231113\n",
    "25%\t1.100000\t-0.300000\t0.000000\t0.000000\t11.806250\t38.983333\t0.735113\n",
    "50%\t1.800000\t0.000000\t0.000000\t0.099655\t17.825000\t47.987500\t0.998054\n",
    "75%\t2.950000\t0.200000\t3.000000\t0.348074\t24.829167\t59.070833\t1.296350\n",
    "max\t11.900000\t4.600000\t9.000000\t1.000000\t33.191667\t81.141667\t2.020600\n",
    "'''"
   ]
  },
  {
   "cell_type": "code",
   "execution_count": 1189,
   "metadata": {},
   "outputs": [],
   "source": [
    "input_columns = ['CO(mg/m^3)', 'People', 'Suction Pump',\n",
    " 'CO(mg/m^3)_prev_1',\n",
    " 'CO(mg/m^3)_prev_2',\n",
    " 'CO(mg/m^3)_prev_3',\n",
    " 'CO(mg/m^3)_prev_4',\n",
    " 'CO(mg/m^3)_prev_5',\n",
    " 'CO(mg/m^3)_prev_6',\n",
    " 'People_lag_1',\n",
    " 'People_prev_1',\n",
    " 'People_lag_2',\n",
    " 'People_prev_2',\n",
    " 'People_lag_3',\n",
    " 'People_prev_3',\n",
    " 'People_lag_4',\n",
    " 'People_prev_4',\n",
    " 'People_lag_5',\n",
    " 'People_prev_5',\n",
    " 'People_lag_6',\n",
    " 'People_prev_6',\n",
    " 'Suction Pump_lag_1',\n",
    " 'Suction Pump_prev_1',\n",
    " 'Suction Pump_lag_2',\n",
    " 'Suction Pump_prev_2',\n",
    " 'Suction Pump_lag_3',\n",
    " 'Suction Pump_prev_3',\n",
    " 'Suction Pump_lag_4',\n",
    " 'Suction Pump_prev_4',\n",
    " 'Suction Pump_lag_5',\n",
    " 'Suction Pump_prev_5',\n",
    " 'Suction Pump_lag_6',\n",
    " 'Suction Pump_prev_6',\n",
    "]"
   ]
  },
  {
   "cell_type": "code",
   "execution_count": 1190,
   "metadata": {},
   "outputs": [],
   "source": [
    "people = 0#1.874638\n",
    "suction_pump = 0#0.188332\n",
    "suction_pump_f = 0.0\n",
    "CO = 0.05\n",
    "\n",
    "CO_tn = [CO, CO, CO, CO, CO, CO]\n",
    "people_tn = [0, 0, 0, 0, 0, 0, people, people, people, people, people, people, people]\n",
    "suction_pump_tn = [0, 0, 0, 0, 0, 0, suction_pump, suction_pump_f, suction_pump_f, suction_pump_f, suction_pump_f, suction_pump_f, suction_pump_f]"
   ]
  },
  {
   "cell_type": "code",
   "execution_count": 1191,
   "metadata": {},
   "outputs": [],
   "source": [
    "def create_df_input(CO, people, suction_pump, CO_tn, people_tn, suction_pump_tn):\n",
    "    df = pd.DataFrame({\n",
    "        'CO(mg/m^3)': [CO],\n",
    "        'People': [people],\n",
    "        'Suction Pump': [suction_pump],\n",
    "        'CO(mg/m^3)_prev_1': CO_tn[0],\n",
    "        'CO(mg/m^3)_prev_2': CO_tn[1],\n",
    "        'CO(mg/m^3)_prev_3': CO_tn[2],\n",
    "        'CO(mg/m^3)_prev_4': CO_tn[3],\n",
    "        'CO(mg/m^3)_prev_5': CO_tn[4],\n",
    "        'CO(mg/m^3)_prev_6': CO_tn[5],\n",
    "        'People_lag_1': people_tn[6],\n",
    "        'People_prev_1': people_tn[0],\n",
    "        'People_lag_2': people_tn[7],\n",
    "        'People_prev_2': people_tn[1],\n",
    "        'People_lag_3': people_tn[8],\n",
    "        'People_prev_3': people_tn[2],\n",
    "        'People_lag_4': people_tn[9],\n",
    "        'People_prev_4': people_tn[3],\n",
    "        'People_lag_5': people_tn[10],\n",
    "        'People_prev_5': people_tn[4],\n",
    "        'People_lag_6': people_tn[11],\n",
    "        'People_prev_6': people_tn[5],\n",
    "        'Suction Pump_lag_1': suction_pump_tn[6],\n",
    "        'Suction Pump_prev_1': suction_pump_tn[0],\n",
    "        'Suction Pump_lag_2': suction_pump_tn[7],\n",
    "        'Suction Pump_prev_2': suction_pump_tn[1],\n",
    "        'Suction Pump_lag_3': suction_pump_tn[8],\n",
    "        'Suction Pump_prev_3': suction_pump_tn[2],\n",
    "        'Suction Pump_lag_4': suction_pump_tn[9],\n",
    "        'Suction Pump_prev_4': suction_pump_tn[3],\n",
    "        'Suction Pump_lag_5': suction_pump_tn[10],\n",
    "        'Suction Pump_prev_5': suction_pump_tn[4],\n",
    "        'Suction Pump_lag_6': suction_pump_tn[11],\n",
    "        'Suction Pump_prev_6': suction_pump_tn[5],\n",
    "    })\n",
    "    return df"
   ]
  },
  {
   "cell_type": "code",
   "execution_count": 1192,
   "metadata": {},
   "outputs": [
    {
     "data": {
      "text/html": [
       "<div>\n",
       "<style scoped>\n",
       "    .dataframe tbody tr th:only-of-type {\n",
       "        vertical-align: middle;\n",
       "    }\n",
       "\n",
       "    .dataframe tbody tr th {\n",
       "        vertical-align: top;\n",
       "    }\n",
       "\n",
       "    .dataframe thead th {\n",
       "        text-align: right;\n",
       "    }\n",
       "</style>\n",
       "<table border=\"1\" class=\"dataframe\">\n",
       "  <thead>\n",
       "    <tr style=\"text-align: right;\">\n",
       "      <th></th>\n",
       "      <th>CO(mg/m^3)</th>\n",
       "      <th>People</th>\n",
       "      <th>Suction Pump</th>\n",
       "      <th>CO(mg/m^3)_prev_1</th>\n",
       "      <th>CO(mg/m^3)_prev_2</th>\n",
       "      <th>CO(mg/m^3)_prev_3</th>\n",
       "      <th>CO(mg/m^3)_prev_4</th>\n",
       "      <th>CO(mg/m^3)_prev_5</th>\n",
       "      <th>CO(mg/m^3)_prev_6</th>\n",
       "      <th>People_lag_1</th>\n",
       "      <th>...</th>\n",
       "      <th>Suction Pump_lag_2</th>\n",
       "      <th>Suction Pump_prev_2</th>\n",
       "      <th>Suction Pump_lag_3</th>\n",
       "      <th>Suction Pump_prev_3</th>\n",
       "      <th>Suction Pump_lag_4</th>\n",
       "      <th>Suction Pump_prev_4</th>\n",
       "      <th>Suction Pump_lag_5</th>\n",
       "      <th>Suction Pump_prev_5</th>\n",
       "      <th>Suction Pump_lag_6</th>\n",
       "      <th>Suction Pump_prev_6</th>\n",
       "    </tr>\n",
       "  </thead>\n",
       "  <tbody>\n",
       "    <tr>\n",
       "      <th>0</th>\n",
       "      <td>0.05</td>\n",
       "      <td>0</td>\n",
       "      <td>0</td>\n",
       "      <td>0.05</td>\n",
       "      <td>0.05</td>\n",
       "      <td>0.05</td>\n",
       "      <td>0.05</td>\n",
       "      <td>0.05</td>\n",
       "      <td>0.05</td>\n",
       "      <td>0</td>\n",
       "      <td>...</td>\n",
       "      <td>0.0</td>\n",
       "      <td>0</td>\n",
       "      <td>0.0</td>\n",
       "      <td>0</td>\n",
       "      <td>0.0</td>\n",
       "      <td>0</td>\n",
       "      <td>0.0</td>\n",
       "      <td>0</td>\n",
       "      <td>0.0</td>\n",
       "      <td>0</td>\n",
       "    </tr>\n",
       "  </tbody>\n",
       "</table>\n",
       "<p>1 rows × 33 columns</p>\n",
       "</div>"
      ],
      "text/plain": [
       "   CO(mg/m^3)  People  Suction Pump  CO(mg/m^3)_prev_1  CO(mg/m^3)_prev_2  \\\n",
       "0        0.05       0             0               0.05               0.05   \n",
       "\n",
       "   CO(mg/m^3)_prev_3  CO(mg/m^3)_prev_4  CO(mg/m^3)_prev_5  CO(mg/m^3)_prev_6  \\\n",
       "0               0.05               0.05               0.05               0.05   \n",
       "\n",
       "   People_lag_1  ...  Suction Pump_lag_2  Suction Pump_prev_2  \\\n",
       "0             0  ...                 0.0                    0   \n",
       "\n",
       "   Suction Pump_lag_3  Suction Pump_prev_3  Suction Pump_lag_4  \\\n",
       "0                 0.0                    0                 0.0   \n",
       "\n",
       "   Suction Pump_prev_4  Suction Pump_lag_5  Suction Pump_prev_5  \\\n",
       "0                    0                 0.0                    0   \n",
       "\n",
       "   Suction Pump_lag_6  Suction Pump_prev_6  \n",
       "0                 0.0                    0  \n",
       "\n",
       "[1 rows x 33 columns]"
      ]
     },
     "execution_count": 1192,
     "metadata": {},
     "output_type": "execute_result"
    }
   ],
   "source": [
    "df_input = create_df_input(CO, people, suction_pump, CO_tn, people_tn, suction_pump_tn)\n",
    "df_input"
   ]
  },
  {
   "cell_type": "code",
   "execution_count": 1193,
   "metadata": {},
   "outputs": [
    {
     "data": {
      "text/html": [
       "<div>\n",
       "<style scoped>\n",
       "    .dataframe tbody tr th:only-of-type {\n",
       "        vertical-align: middle;\n",
       "    }\n",
       "\n",
       "    .dataframe tbody tr th {\n",
       "        vertical-align: top;\n",
       "    }\n",
       "\n",
       "    .dataframe thead th {\n",
       "        text-align: right;\n",
       "    }\n",
       "</style>\n",
       "<table border=\"1\" class=\"dataframe\">\n",
       "  <thead>\n",
       "    <tr style=\"text-align: right;\">\n",
       "      <th></th>\n",
       "      <th>CO(mg/m^3)</th>\n",
       "      <th>People</th>\n",
       "      <th>Suction Pump</th>\n",
       "      <th>CO(mg/m^3)_prev_1</th>\n",
       "      <th>CO(mg/m^3)_prev_2</th>\n",
       "      <th>CO(mg/m^3)_prev_3</th>\n",
       "      <th>CO(mg/m^3)_prev_4</th>\n",
       "      <th>CO(mg/m^3)_prev_5</th>\n",
       "      <th>CO(mg/m^3)_prev_6</th>\n",
       "      <th>People_lag_1</th>\n",
       "      <th>...</th>\n",
       "      <th>Suction Pump_lag_2</th>\n",
       "      <th>Suction Pump_prev_2</th>\n",
       "      <th>Suction Pump_lag_3</th>\n",
       "      <th>Suction Pump_prev_3</th>\n",
       "      <th>Suction Pump_lag_4</th>\n",
       "      <th>Suction Pump_prev_4</th>\n",
       "      <th>Suction Pump_lag_5</th>\n",
       "      <th>Suction Pump_prev_5</th>\n",
       "      <th>Suction Pump_lag_6</th>\n",
       "      <th>Suction Pump_prev_6</th>\n",
       "    </tr>\n",
       "  </thead>\n",
       "  <tbody>\n",
       "    <tr>\n",
       "      <th>0</th>\n",
       "      <td>-1.269223</td>\n",
       "      <td>-0.784315</td>\n",
       "      <td>-1.3592</td>\n",
       "      <td>-1.269692</td>\n",
       "      <td>-1.271521</td>\n",
       "      <td>-1.271915</td>\n",
       "      <td>-1.268062</td>\n",
       "      <td>-1.268716</td>\n",
       "      <td>-1.270642</td>\n",
       "      <td>-0.783931</td>\n",
       "      <td>...</td>\n",
       "      <td>-1.348711</td>\n",
       "      <td>-1.350878</td>\n",
       "      <td>-1.350973</td>\n",
       "      <td>-1.350694</td>\n",
       "      <td>-1.352911</td>\n",
       "      <td>-1.34237</td>\n",
       "      <td>-1.354967</td>\n",
       "      <td>-1.339335</td>\n",
       "      <td>-1.353139</td>\n",
       "      <td>-1.348496</td>\n",
       "    </tr>\n",
       "  </tbody>\n",
       "</table>\n",
       "<p>1 rows × 33 columns</p>\n",
       "</div>"
      ],
      "text/plain": [
       "   CO(mg/m^3)    People  Suction Pump  CO(mg/m^3)_prev_1  CO(mg/m^3)_prev_2  \\\n",
       "0   -1.269223 -0.784315       -1.3592          -1.269692          -1.271521   \n",
       "\n",
       "   CO(mg/m^3)_prev_3  CO(mg/m^3)_prev_4  CO(mg/m^3)_prev_5  CO(mg/m^3)_prev_6  \\\n",
       "0          -1.271915          -1.268062          -1.268716          -1.270642   \n",
       "\n",
       "   People_lag_1  ...  Suction Pump_lag_2  Suction Pump_prev_2  \\\n",
       "0     -0.783931  ...           -1.348711            -1.350878   \n",
       "\n",
       "   Suction Pump_lag_3  Suction Pump_prev_3  Suction Pump_lag_4  \\\n",
       "0           -1.350973            -1.350694           -1.352911   \n",
       "\n",
       "   Suction Pump_prev_4  Suction Pump_lag_5  Suction Pump_prev_5  \\\n",
       "0             -1.34237           -1.354967            -1.339335   \n",
       "\n",
       "   Suction Pump_lag_6  Suction Pump_prev_6  \n",
       "0           -1.353139            -1.348496  \n",
       "\n",
       "[1 rows x 33 columns]"
      ]
     },
     "execution_count": 1193,
     "metadata": {},
     "output_type": "execute_result"
    }
   ],
   "source": [
    "# scale df input\n",
    "df_input_scaled = scaler.transform(df_input)\n",
    "df_input_scaled = pd.DataFrame(df_input_scaled, columns=input_columns)\n",
    "df_input_scaled"
   ]
  },
  {
   "cell_type": "code",
   "execution_count": 1194,
   "metadata": {},
   "outputs": [
    {
     "name": "stdout",
     "output_type": "stream",
     "text": [
      "1/1 [==============================] - 0s 62ms/step\n"
     ]
    },
    {
     "data": {
      "text/plain": [
       "array([[0.05184734, 0.07217305, 0.06719454, 0.06294276, 0.07074712,\n",
       "        0.04629032]], dtype=float32)"
      ]
     },
     "execution_count": 1194,
     "metadata": {},
     "output_type": "execute_result"
    }
   ],
   "source": [
    "output = model.predict(df_input_scaled)\n",
    "output"
   ]
  },
  {
   "cell_type": "code",
   "execution_count": 1195,
   "metadata": {},
   "outputs": [
    {
     "data": {
      "text/plain": [
       "array([[0.05      , 0.05      , 0.05      , 0.05      , 0.05      ,\n",
       "        0.05      , 0.05      , 0.05184734, 0.07217305, 0.06719454,\n",
       "        0.06294276, 0.07074712, 0.04629032]], dtype=float32)"
      ]
     },
     "execution_count": 1195,
     "metadata": {},
     "output_type": "execute_result"
    }
   ],
   "source": [
    "# insert CO_tn values into output vector on head\n",
    "output = np.insert(output, 0, CO, axis=1)\n",
    "for i in range(0, len(output_columns)):\n",
    "    output = np.insert(output, 0, CO_tn[i], axis=1)\n",
    "output"
   ]
  },
  {
   "cell_type": "code",
   "execution_count": 1196,
   "metadata": {},
   "outputs": [],
   "source": [
    "df_output = pd.DataFrame(output)\n",
    "df_output = df_output.T\n",
    "df_output.columns = ['CO(mg/m^3)']\n",
    "df_output.index = [\n",
    "    'lag_-6', 'lag_-5', 'lag_-4', 'lag_-3', 'lag_-2', 'lag_-1', 'current',\n",
    "    'lag_1', 'lag_2', 'lag_3', 'lag_4', 'lag_5', 'lag_6'\n",
    "    ]\n",
    "#df_output['CO(mg/m^3) Worst'] = (df_output['CO(mg/m^3)'] + adjustements)\n",
    "#df_output['CO(mg/m^3) Best'] = df_output['CO(mg/m^3)'] - adjustements\n",
    "#df_output['CO(mg/m^3) Best'] = df_output['CO(mg/m^3) Best'].apply(lambda x: 0 if x < 0 else x)\n",
    "df_output[\"people\"] = people\n",
    "df_output[\"suction_pump\"] = suction_pump"
   ]
  },
  {
   "cell_type": "code",
   "execution_count": 1204,
   "metadata": {},
   "outputs": [
    {
     "data": {
      "application/vnd.plotly.v1+json": {
       "config": {
        "plotlyServerURL": "https://plot.ly"
       },
       "data": [
        {
         "hovertemplate": "variable=CO(mg/m^3)<br>index=%{x}<br>value=%{y}<extra></extra>",
         "legendgroup": "CO(mg/m^3)",
         "line": {
          "color": "#636efa",
          "dash": "solid"
         },
         "marker": {
          "symbol": "circle"
         },
         "mode": "markers+lines",
         "name": "CO(mg/m^3)",
         "orientation": "v",
         "showlegend": true,
         "type": "scatter",
         "x": [
          "lag_-6",
          "lag_-5",
          "lag_-4",
          "lag_-3",
          "lag_-2",
          "lag_-1",
          "current",
          "lag_1",
          "lag_2",
          "lag_3",
          "lag_4",
          "lag_5",
          "lag_6"
         ],
         "xaxis": "x",
         "y": [
          0.05000000074505806,
          0.05000000074505806,
          0.05000000074505806,
          0.05000000074505806,
          0.05000000074505806,
          0.05000000074505806,
          0.05000000074505806,
          0.05184733867645264,
          0.07217305153608322,
          0.06719453632831573,
          0.0629427582025528,
          0.07074712216854095,
          0.046290323138237
         ],
         "yaxis": "y"
        }
       ],
       "layout": {
        "legend": {
         "title": {
          "text": "variable"
         },
         "tracegroupgap": 0
        },
        "template": {
         "data": {
          "bar": [
           {
            "error_x": {
             "color": "#2a3f5f"
            },
            "error_y": {
             "color": "#2a3f5f"
            },
            "marker": {
             "line": {
              "color": "#E5ECF6",
              "width": 0.5
             },
             "pattern": {
              "fillmode": "overlay",
              "size": 10,
              "solidity": 0.2
             }
            },
            "type": "bar"
           }
          ],
          "barpolar": [
           {
            "marker": {
             "line": {
              "color": "#E5ECF6",
              "width": 0.5
             },
             "pattern": {
              "fillmode": "overlay",
              "size": 10,
              "solidity": 0.2
             }
            },
            "type": "barpolar"
           }
          ],
          "carpet": [
           {
            "aaxis": {
             "endlinecolor": "#2a3f5f",
             "gridcolor": "white",
             "linecolor": "white",
             "minorgridcolor": "white",
             "startlinecolor": "#2a3f5f"
            },
            "baxis": {
             "endlinecolor": "#2a3f5f",
             "gridcolor": "white",
             "linecolor": "white",
             "minorgridcolor": "white",
             "startlinecolor": "#2a3f5f"
            },
            "type": "carpet"
           }
          ],
          "choropleth": [
           {
            "colorbar": {
             "outlinewidth": 0,
             "ticks": ""
            },
            "type": "choropleth"
           }
          ],
          "contour": [
           {
            "colorbar": {
             "outlinewidth": 0,
             "ticks": ""
            },
            "colorscale": [
             [
              0,
              "#0d0887"
             ],
             [
              0.1111111111111111,
              "#46039f"
             ],
             [
              0.2222222222222222,
              "#7201a8"
             ],
             [
              0.3333333333333333,
              "#9c179e"
             ],
             [
              0.4444444444444444,
              "#bd3786"
             ],
             [
              0.5555555555555556,
              "#d8576b"
             ],
             [
              0.6666666666666666,
              "#ed7953"
             ],
             [
              0.7777777777777778,
              "#fb9f3a"
             ],
             [
              0.8888888888888888,
              "#fdca26"
             ],
             [
              1,
              "#f0f921"
             ]
            ],
            "type": "contour"
           }
          ],
          "contourcarpet": [
           {
            "colorbar": {
             "outlinewidth": 0,
             "ticks": ""
            },
            "type": "contourcarpet"
           }
          ],
          "heatmap": [
           {
            "colorbar": {
             "outlinewidth": 0,
             "ticks": ""
            },
            "colorscale": [
             [
              0,
              "#0d0887"
             ],
             [
              0.1111111111111111,
              "#46039f"
             ],
             [
              0.2222222222222222,
              "#7201a8"
             ],
             [
              0.3333333333333333,
              "#9c179e"
             ],
             [
              0.4444444444444444,
              "#bd3786"
             ],
             [
              0.5555555555555556,
              "#d8576b"
             ],
             [
              0.6666666666666666,
              "#ed7953"
             ],
             [
              0.7777777777777778,
              "#fb9f3a"
             ],
             [
              0.8888888888888888,
              "#fdca26"
             ],
             [
              1,
              "#f0f921"
             ]
            ],
            "type": "heatmap"
           }
          ],
          "heatmapgl": [
           {
            "colorbar": {
             "outlinewidth": 0,
             "ticks": ""
            },
            "colorscale": [
             [
              0,
              "#0d0887"
             ],
             [
              0.1111111111111111,
              "#46039f"
             ],
             [
              0.2222222222222222,
              "#7201a8"
             ],
             [
              0.3333333333333333,
              "#9c179e"
             ],
             [
              0.4444444444444444,
              "#bd3786"
             ],
             [
              0.5555555555555556,
              "#d8576b"
             ],
             [
              0.6666666666666666,
              "#ed7953"
             ],
             [
              0.7777777777777778,
              "#fb9f3a"
             ],
             [
              0.8888888888888888,
              "#fdca26"
             ],
             [
              1,
              "#f0f921"
             ]
            ],
            "type": "heatmapgl"
           }
          ],
          "histogram": [
           {
            "marker": {
             "pattern": {
              "fillmode": "overlay",
              "size": 10,
              "solidity": 0.2
             }
            },
            "type": "histogram"
           }
          ],
          "histogram2d": [
           {
            "colorbar": {
             "outlinewidth": 0,
             "ticks": ""
            },
            "colorscale": [
             [
              0,
              "#0d0887"
             ],
             [
              0.1111111111111111,
              "#46039f"
             ],
             [
              0.2222222222222222,
              "#7201a8"
             ],
             [
              0.3333333333333333,
              "#9c179e"
             ],
             [
              0.4444444444444444,
              "#bd3786"
             ],
             [
              0.5555555555555556,
              "#d8576b"
             ],
             [
              0.6666666666666666,
              "#ed7953"
             ],
             [
              0.7777777777777778,
              "#fb9f3a"
             ],
             [
              0.8888888888888888,
              "#fdca26"
             ],
             [
              1,
              "#f0f921"
             ]
            ],
            "type": "histogram2d"
           }
          ],
          "histogram2dcontour": [
           {
            "colorbar": {
             "outlinewidth": 0,
             "ticks": ""
            },
            "colorscale": [
             [
              0,
              "#0d0887"
             ],
             [
              0.1111111111111111,
              "#46039f"
             ],
             [
              0.2222222222222222,
              "#7201a8"
             ],
             [
              0.3333333333333333,
              "#9c179e"
             ],
             [
              0.4444444444444444,
              "#bd3786"
             ],
             [
              0.5555555555555556,
              "#d8576b"
             ],
             [
              0.6666666666666666,
              "#ed7953"
             ],
             [
              0.7777777777777778,
              "#fb9f3a"
             ],
             [
              0.8888888888888888,
              "#fdca26"
             ],
             [
              1,
              "#f0f921"
             ]
            ],
            "type": "histogram2dcontour"
           }
          ],
          "mesh3d": [
           {
            "colorbar": {
             "outlinewidth": 0,
             "ticks": ""
            },
            "type": "mesh3d"
           }
          ],
          "parcoords": [
           {
            "line": {
             "colorbar": {
              "outlinewidth": 0,
              "ticks": ""
             }
            },
            "type": "parcoords"
           }
          ],
          "pie": [
           {
            "automargin": true,
            "type": "pie"
           }
          ],
          "scatter": [
           {
            "fillpattern": {
             "fillmode": "overlay",
             "size": 10,
             "solidity": 0.2
            },
            "type": "scatter"
           }
          ],
          "scatter3d": [
           {
            "line": {
             "colorbar": {
              "outlinewidth": 0,
              "ticks": ""
             }
            },
            "marker": {
             "colorbar": {
              "outlinewidth": 0,
              "ticks": ""
             }
            },
            "type": "scatter3d"
           }
          ],
          "scattercarpet": [
           {
            "marker": {
             "colorbar": {
              "outlinewidth": 0,
              "ticks": ""
             }
            },
            "type": "scattercarpet"
           }
          ],
          "scattergeo": [
           {
            "marker": {
             "colorbar": {
              "outlinewidth": 0,
              "ticks": ""
             }
            },
            "type": "scattergeo"
           }
          ],
          "scattergl": [
           {
            "marker": {
             "colorbar": {
              "outlinewidth": 0,
              "ticks": ""
             }
            },
            "type": "scattergl"
           }
          ],
          "scattermapbox": [
           {
            "marker": {
             "colorbar": {
              "outlinewidth": 0,
              "ticks": ""
             }
            },
            "type": "scattermapbox"
           }
          ],
          "scatterpolar": [
           {
            "marker": {
             "colorbar": {
              "outlinewidth": 0,
              "ticks": ""
             }
            },
            "type": "scatterpolar"
           }
          ],
          "scatterpolargl": [
           {
            "marker": {
             "colorbar": {
              "outlinewidth": 0,
              "ticks": ""
             }
            },
            "type": "scatterpolargl"
           }
          ],
          "scatterternary": [
           {
            "marker": {
             "colorbar": {
              "outlinewidth": 0,
              "ticks": ""
             }
            },
            "type": "scatterternary"
           }
          ],
          "surface": [
           {
            "colorbar": {
             "outlinewidth": 0,
             "ticks": ""
            },
            "colorscale": [
             [
              0,
              "#0d0887"
             ],
             [
              0.1111111111111111,
              "#46039f"
             ],
             [
              0.2222222222222222,
              "#7201a8"
             ],
             [
              0.3333333333333333,
              "#9c179e"
             ],
             [
              0.4444444444444444,
              "#bd3786"
             ],
             [
              0.5555555555555556,
              "#d8576b"
             ],
             [
              0.6666666666666666,
              "#ed7953"
             ],
             [
              0.7777777777777778,
              "#fb9f3a"
             ],
             [
              0.8888888888888888,
              "#fdca26"
             ],
             [
              1,
              "#f0f921"
             ]
            ],
            "type": "surface"
           }
          ],
          "table": [
           {
            "cells": {
             "fill": {
              "color": "#EBF0F8"
             },
             "line": {
              "color": "white"
             }
            },
            "header": {
             "fill": {
              "color": "#C8D4E3"
             },
             "line": {
              "color": "white"
             }
            },
            "type": "table"
           }
          ]
         },
         "layout": {
          "annotationdefaults": {
           "arrowcolor": "#2a3f5f",
           "arrowhead": 0,
           "arrowwidth": 1
          },
          "autotypenumbers": "strict",
          "coloraxis": {
           "colorbar": {
            "outlinewidth": 0,
            "ticks": ""
           }
          },
          "colorscale": {
           "diverging": [
            [
             0,
             "#8e0152"
            ],
            [
             0.1,
             "#c51b7d"
            ],
            [
             0.2,
             "#de77ae"
            ],
            [
             0.3,
             "#f1b6da"
            ],
            [
             0.4,
             "#fde0ef"
            ],
            [
             0.5,
             "#f7f7f7"
            ],
            [
             0.6,
             "#e6f5d0"
            ],
            [
             0.7,
             "#b8e186"
            ],
            [
             0.8,
             "#7fbc41"
            ],
            [
             0.9,
             "#4d9221"
            ],
            [
             1,
             "#276419"
            ]
           ],
           "sequential": [
            [
             0,
             "#0d0887"
            ],
            [
             0.1111111111111111,
             "#46039f"
            ],
            [
             0.2222222222222222,
             "#7201a8"
            ],
            [
             0.3333333333333333,
             "#9c179e"
            ],
            [
             0.4444444444444444,
             "#bd3786"
            ],
            [
             0.5555555555555556,
             "#d8576b"
            ],
            [
             0.6666666666666666,
             "#ed7953"
            ],
            [
             0.7777777777777778,
             "#fb9f3a"
            ],
            [
             0.8888888888888888,
             "#fdca26"
            ],
            [
             1,
             "#f0f921"
            ]
           ],
           "sequentialminus": [
            [
             0,
             "#0d0887"
            ],
            [
             0.1111111111111111,
             "#46039f"
            ],
            [
             0.2222222222222222,
             "#7201a8"
            ],
            [
             0.3333333333333333,
             "#9c179e"
            ],
            [
             0.4444444444444444,
             "#bd3786"
            ],
            [
             0.5555555555555556,
             "#d8576b"
            ],
            [
             0.6666666666666666,
             "#ed7953"
            ],
            [
             0.7777777777777778,
             "#fb9f3a"
            ],
            [
             0.8888888888888888,
             "#fdca26"
            ],
            [
             1,
             "#f0f921"
            ]
           ]
          },
          "colorway": [
           "#636efa",
           "#EF553B",
           "#00cc96",
           "#ab63fa",
           "#FFA15A",
           "#19d3f3",
           "#FF6692",
           "#B6E880",
           "#FF97FF",
           "#FECB52"
          ],
          "font": {
           "color": "#2a3f5f"
          },
          "geo": {
           "bgcolor": "white",
           "lakecolor": "white",
           "landcolor": "#E5ECF6",
           "showlakes": true,
           "showland": true,
           "subunitcolor": "white"
          },
          "hoverlabel": {
           "align": "left"
          },
          "hovermode": "closest",
          "mapbox": {
           "style": "light"
          },
          "paper_bgcolor": "white",
          "plot_bgcolor": "#E5ECF6",
          "polar": {
           "angularaxis": {
            "gridcolor": "white",
            "linecolor": "white",
            "ticks": ""
           },
           "bgcolor": "#E5ECF6",
           "radialaxis": {
            "gridcolor": "white",
            "linecolor": "white",
            "ticks": ""
           }
          },
          "scene": {
           "xaxis": {
            "backgroundcolor": "#E5ECF6",
            "gridcolor": "white",
            "gridwidth": 2,
            "linecolor": "white",
            "showbackground": true,
            "ticks": "",
            "zerolinecolor": "white"
           },
           "yaxis": {
            "backgroundcolor": "#E5ECF6",
            "gridcolor": "white",
            "gridwidth": 2,
            "linecolor": "white",
            "showbackground": true,
            "ticks": "",
            "zerolinecolor": "white"
           },
           "zaxis": {
            "backgroundcolor": "#E5ECF6",
            "gridcolor": "white",
            "gridwidth": 2,
            "linecolor": "white",
            "showbackground": true,
            "ticks": "",
            "zerolinecolor": "white"
           }
          },
          "shapedefaults": {
           "line": {
            "color": "#2a3f5f"
           }
          },
          "ternary": {
           "aaxis": {
            "gridcolor": "white",
            "linecolor": "white",
            "ticks": ""
           },
           "baxis": {
            "gridcolor": "white",
            "linecolor": "white",
            "ticks": ""
           },
           "bgcolor": "#E5ECF6",
           "caxis": {
            "gridcolor": "white",
            "linecolor": "white",
            "ticks": ""
           }
          },
          "title": {
           "x": 0.05
          },
          "xaxis": {
           "automargin": true,
           "gridcolor": "white",
           "linecolor": "white",
           "ticks": "",
           "title": {
            "standoff": 15
           },
           "zerolinecolor": "white",
           "zerolinewidth": 2
          },
          "yaxis": {
           "automargin": true,
           "gridcolor": "white",
           "linecolor": "white",
           "ticks": "",
           "title": {
            "standoff": 15
           },
           "zerolinecolor": "white",
           "zerolinewidth": 2
          }
         }
        },
        "title": {
         "text": "CO(mg/m^3) prediction"
        },
        "xaxis": {
         "anchor": "y",
         "domain": [
          0,
          1
         ],
         "title": {
          "text": "index"
         }
        },
        "yaxis": {
         "anchor": "x",
         "domain": [
          0,
          1
         ],
         "range": [
          0,
          1
         ],
         "title": {
          "text": "value"
         }
        }
       }
      }
     },
     "metadata": {},
     "output_type": "display_data"
    }
   ],
   "source": [
    "# plot output with plotly\n",
    "fig = px.line(df_output, x=df_output.index, y=['CO(mg/m^3)'], title='CO(mg/m^3) prediction',markers=True) # 'CO(mg/m^3) Worst', 'CO(mg/m^3) Best']\n",
    "fig.show()"
   ]
  },
  {
   "cell_type": "code",
   "execution_count": 1198,
   "metadata": {},
   "outputs": [],
   "source": [
    "# simulate new input"
   ]
  }
 ],
 "metadata": {
  "kernelspec": {
   "display_name": "env",
   "language": "python",
   "name": "python3"
  },
  "language_info": {
   "codemirror_mode": {
    "name": "ipython",
    "version": 3
   },
   "file_extension": ".py",
   "mimetype": "text/x-python",
   "name": "python",
   "nbconvert_exporter": "python",
   "pygments_lexer": "ipython3",
   "version": "3.10.12"
  }
 },
 "nbformat": 4,
 "nbformat_minor": 2
}
